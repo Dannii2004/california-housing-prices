{
 "cells": [
  {
   "cell_type": "code",
   "execution_count": 1,
   "id": "e1a28711",
   "metadata": {},
   "outputs": [],
   "source": [
    "# Import necessary libraries\n",
    "import numpy as np\n",
    "from sklearn.datasets import fetch_california_housing\n",
    "from sklearn.model_selection import train_test_split\n",
    "from sklearn.linear_model import LinearRegression\n",
    "from sklearn.metrics import mean_squared_error, r2_score\n",
    "from sklearn.preprocessing import StandardScaler  # Import StandardScaler for feature scaling\n"
   ]
  },
  {
   "cell_type": "code",
   "execution_count": 2,
   "id": "efb33ece",
   "metadata": {},
   "outputs": [],
   "source": [
    "# Load the California Housing dataset\n",
    "housing = fetch_california_housing()\n",
    "X = housing.data  # Features (independent variables)\n",
    "y = housing.target  # Target variable (housing prices)\n",
    "\n"
   ]
  },
  {
   "cell_type": "code",
   "execution_count": 3,
   "id": "eba85edb",
   "metadata": {},
   "outputs": [],
   "source": [
    "# Scale the features\n",
    "scaler = StandardScaler()\n",
    "X_scaled = scaler.fit_transform(X)\n",
    "\n",
    "# Split the data into training and testing sets\n",
    "X_train, X_test, y_train, y_test = train_test_split(X_scaled, y, test_size=0.2, random_state=42)\n"
   ]
  },
  {
   "cell_type": "code",
   "execution_count": 4,
   "id": "9dc088fc",
   "metadata": {},
   "outputs": [],
   "source": [
    "# Create and train the linear regression model\n",
    "model = LinearRegression()\n",
    "model.fit(X_train, y_train)\n",
    "\n",
    "# Make predictions on the test set\n",
    "y_pred_test = model.predict(X_test)\n"
   ]
  },
  {
   "cell_type": "code",
   "execution_count": 5,
   "id": "02ab0d5e",
   "metadata": {},
   "outputs": [
    {
     "name": "stdout",
     "output_type": "stream",
     "text": [
      "Test Set Performance:\n",
      "Mean Squared Error: 0.56\n",
      "R-squared: 0.58\n"
     ]
    }
   ],
   "source": [
    "# Evaluate the model on the test set\n",
    "mse_test = mean_squared_error(y_test, y_pred_test)\n",
    "r2_test = r2_score(y_test, y_pred_test)\n",
    "\n",
    "print(f\"Test Set Performance:\")\n",
    "print(f\"Mean Squared Error: {mse_test:.2f}\")\n",
    "print(f\"R-squared: {r2_test:.2f}\")\n"
   ]
  },
  {
   "cell_type": "code",
   "execution_count": 6,
   "id": "b2c3b31b",
   "metadata": {},
   "outputs": [
    {
     "name": "stdout",
     "output_type": "stream",
     "text": [
      "\n",
      "Predicted housing price for new data: $2.45\n"
     ]
    }
   ],
   "source": [
    "# Create new input data for prediction\n",
    "# This is a single data point with 8 features\n",
    "# Using more realistic feature values from the dataset\n",
    "X_new = np.array([[4.5215, 41.0, 6.98412, 1.02381, 322.0, 2.55556, 37.63, -122.0]])\n",
    "\n",
    "# Scale the new input data\n",
    "X_new_scaled = scaler.transform(X_new)\n",
    "\n",
    "# Make predictions on the new data\n",
    "y_pred_new = model.predict(X_new_scaled)\n",
    "\n",
    "# Print the predicted housing price for the new data\n",
    "print(f\"\\nPredicted housing price for new data: ${y_pred_new[0]:.2f}\")\n",
    "\n"
   ]
  },
  {
   "cell_type": "code",
   "execution_count": null,
   "id": "0135e9fe",
   "metadata": {},
   "outputs": [],
   "source": []
  }
 ],
 "metadata": {
  "kernelspec": {
   "display_name": "Python 3 (ipykernel)",
   "language": "python",
   "name": "python3"
  },
  "language_info": {
   "codemirror_mode": {
    "name": "ipython",
    "version": 3
   },
   "file_extension": ".py",
   "mimetype": "text/x-python",
   "name": "python",
   "nbconvert_exporter": "python",
   "pygments_lexer": "ipython3",
   "version": "3.11.5"
  }
 },
 "nbformat": 4,
 "nbformat_minor": 5
}
